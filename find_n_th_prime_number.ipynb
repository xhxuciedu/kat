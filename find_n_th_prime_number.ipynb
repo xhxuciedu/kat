{
  "nbformat": 4,
  "nbformat_minor": 0,
  "metadata": {
    "colab": {
      "provenance": [],
      "authorship_tag": "ABX9TyN+N33cGHNYvTkAQO7YuzWb",
      "include_colab_link": true
    },
    "kernelspec": {
      "name": "python3",
      "display_name": "Python 3"
    },
    "language_info": {
      "name": "python"
    }
  },
  "cells": [
    {
      "cell_type": "markdown",
      "metadata": {
        "id": "view-in-github",
        "colab_type": "text"
      },
      "source": [
        "<a href=\"https://colab.research.google.com/github/xhxuciedu/kat/blob/main/find_n_th_prime_number.ipynb\" target=\"_parent\"><img src=\"https://colab.research.google.com/assets/colab-badge.svg\" alt=\"Open In Colab\"/></a>"
      ]
    },
    {
      "cell_type": "markdown",
      "source": [
        "## Find n-th prime number"
      ],
      "metadata": {
        "id": "oKKnNGno-MXG"
      }
    },
    {
      "cell_type": "code",
      "execution_count": 23,
      "metadata": {
        "id": "z9JDQoH10Q4H"
      },
      "outputs": [],
      "source": [
        "n = 10001"
      ]
    },
    {
      "cell_type": "code",
      "source": [
        "n"
      ],
      "metadata": {
        "colab": {
          "base_uri": "https://localhost:8080/"
        },
        "id": "TlleuKy-0X6l",
        "outputId": "ac661fb2-a29a-4700-c4cc-7a19e8b26020"
      },
      "execution_count": 24,
      "outputs": [
        {
          "output_type": "execute_result",
          "data": {
            "text/plain": [
              "10001"
            ]
          },
          "metadata": {},
          "execution_count": 24
        }
      ]
    },
    {
      "cell_type": "code",
      "source": [
        "prime_list = []"
      ],
      "metadata": {
        "id": "xi2vbZfm0ZUw"
      },
      "execution_count": 25,
      "outputs": []
    },
    {
      "cell_type": "code",
      "source": [
        "len(prime_list)"
      ],
      "metadata": {
        "colab": {
          "base_uri": "https://localhost:8080/"
        },
        "id": "DbRnFKt30h5e",
        "outputId": "428d5469-8311-4501-fb3f-7fb1426e4b41"
      },
      "execution_count": 26,
      "outputs": [
        {
          "output_type": "execute_result",
          "data": {
            "text/plain": [
              "0"
            ]
          },
          "metadata": {},
          "execution_count": 26
        }
      ]
    },
    {
      "cell_type": "code",
      "source": [
        "prime_list = [2, 3, 5]"
      ],
      "metadata": {
        "id": "Z6xPrS4H0kBM"
      },
      "execution_count": 27,
      "outputs": []
    },
    {
      "cell_type": "code",
      "source": [
        "k = prime_list[-1]"
      ],
      "metadata": {
        "id": "v7Izt6df0p57"
      },
      "execution_count": 28,
      "outputs": []
    },
    {
      "cell_type": "code",
      "source": [
        "while len(prime_list) < n:\n",
        "    k += 2\n",
        "\n",
        "    is_prime = True   # boolean number\n",
        "    for i in prime_list:\n",
        "        if k % i == 0:\n",
        "            is_prime = False\n",
        "            break\n",
        "    if is_prime:\n",
        "        prime_list.append(k)"
      ],
      "metadata": {
        "id": "jsWC8vVE0yUU"
      },
      "execution_count": 29,
      "outputs": []
    },
    {
      "cell_type": "code",
      "source": [
        "len(prime_list)"
      ],
      "metadata": {
        "colab": {
          "base_uri": "https://localhost:8080/"
        },
        "id": "3_t3sVN900kn",
        "outputId": "3e0391fe-d8a2-4417-b8d8-80f9a1d05bf8"
      },
      "execution_count": 31,
      "outputs": [
        {
          "output_type": "execute_result",
          "data": {
            "text/plain": [
              "10001"
            ]
          },
          "metadata": {},
          "execution_count": 31
        }
      ]
    },
    {
      "cell_type": "code",
      "source": [
        "prime_list[-1]"
      ],
      "metadata": {
        "colab": {
          "base_uri": "https://localhost:8080/"
        },
        "id": "AaiirujD1gKx",
        "outputId": "fb4db6fa-4642-4982-8419-b3dbd94e2407"
      },
      "execution_count": 32,
      "outputs": [
        {
          "output_type": "execute_result",
          "data": {
            "text/plain": [
              "104743"
            ]
          },
          "metadata": {},
          "execution_count": 32
        }
      ]
    },
    {
      "cell_type": "markdown",
      "source": [
        "### find square difference"
      ],
      "metadata": {
        "id": "zQ5BU-nG3o-B"
      }
    },
    {
      "cell_type": "code",
      "source": [
        "n = 100"
      ],
      "metadata": {
        "id": "m-GPc05P44aw"
      },
      "execution_count": 94,
      "outputs": []
    },
    {
      "cell_type": "code",
      "source": [
        "print(range(10))"
      ],
      "metadata": {
        "colab": {
          "base_uri": "https://localhost:8080/"
        },
        "id": "AxmP5m855EGM",
        "outputId": "7b481b77-951e-4662-94ac-60e3b990725e"
      },
      "execution_count": 68,
      "outputs": [
        {
          "output_type": "stream",
          "name": "stdout",
          "text": [
            "range(0, 10)\n"
          ]
        }
      ]
    },
    {
      "cell_type": "code",
      "source": [
        "def sum_of_squishy_numpy(n):\n",
        "  s = 0\n",
        "  for i in range(n):\n",
        "    s += i+1\n",
        "  return s"
      ],
      "metadata": {
        "id": "KzuB7Pby4_aH"
      },
      "execution_count": 88,
      "outputs": []
    },
    {
      "cell_type": "code",
      "source": [
        "def squares_of_each_squishy_numpy(n):\n",
        "  t=0\n",
        "  for i in range(n):\n",
        "    t += (i+1)**2\n",
        "  return t\n"
      ],
      "metadata": {
        "id": "Q88DJZtr6jTA"
      },
      "execution_count": 83,
      "outputs": []
    },
    {
      "cell_type": "code",
      "source": [
        "sum_of_squishy_numpy(n)**2 - squares_of_each_squishy_numpy(n)"
      ],
      "metadata": {
        "colab": {
          "base_uri": "https://localhost:8080/"
        },
        "id": "77yFnAsZ7LcV",
        "outputId": "6953fe62-f0ee-4697-bff6-686f81247f5e"
      },
      "execution_count": 95,
      "outputs": [
        {
          "output_type": "execute_result",
          "data": {
            "text/plain": [
              "25164150"
            ]
          },
          "metadata": {},
          "execution_count": 95
        }
      ]
    },
    {
      "cell_type": "code",
      "source": [],
      "metadata": {
        "id": "xecsIBe39p8h"
      },
      "execution_count": null,
      "outputs": []
    }
  ]
}